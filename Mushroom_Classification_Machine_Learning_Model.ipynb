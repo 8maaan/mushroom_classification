{
  "nbformat": 4,
  "nbformat_minor": 0,
  "metadata": {
    "colab": {
      "provenance": []
    },
    "kernelspec": {
      "name": "python3",
      "display_name": "Python 3"
    },
    "language_info": {
      "name": "python"
    }
  },
  "cells": [
    {
      "cell_type": "markdown",
      "source": [
        "## Importing Libraries"
      ],
      "metadata": {
        "id": "GwC2EiTdLrD3"
      }
    },
    {
      "cell_type": "code",
      "execution_count": null,
      "metadata": {
        "id": "WcK0d0obCcGr"
      },
      "outputs": [],
      "source": [
        "import numpy as np\n",
        "import pandas as pd\n",
        "import matplotlib.pyplot as plt\n",
        "import seaborn as sns\n",
        "import tensorflow as tf\n",
        "\n",
        "from sklearn.preprocessing import LabelEncoder\n",
        "from sklearn.model_selection import train_test_split\n",
        "from sklearn.metrics import accuracy_score, confusion_matrix\n",
        "from sklearn.metrics import roc_curve"
      ]
    },
    {
      "cell_type": "markdown",
      "source": [
        "### Getting CSV from  Github"
      ],
      "metadata": {
        "id": "O5dFySGRL5Je"
      }
    },
    {
      "cell_type": "code",
      "source": [
        "url = 'https://raw.githubusercontent.com/8maaan/mushroom_classification/main/mushrooms.csv'\n",
        "data = pd.read_csv(url)"
      ],
      "metadata": {
        "id": "rSF93slDC0U9"
      },
      "execution_count": null,
      "outputs": []
    },
    {
      "cell_type": "markdown",
      "source": [
        "## Exploratory Data Analysis"
      ],
      "metadata": {
        "id": "DnltXxFaRgh0"
      }
    },
    {
      "cell_type": "code",
      "source": [
        "# Preview data\n",
        "data.head()"
      ],
      "metadata": {
        "colab": {
          "base_uri": "https://localhost:8080/",
          "height": 253
        },
        "id": "-KNU0FuyGf6v",
        "outputId": "dc514be3-5b43-451d-f439-43a45fdac189"
      },
      "execution_count": null,
      "outputs": [
        {
          "output_type": "execute_result",
          "data": {
            "text/plain": [
              "  class cap-shape cap-surface cap-color bruises odor gill-attachment  \\\n",
              "0     p         x           s         n       t    p               f   \n",
              "1     e         x           s         y       t    a               f   \n",
              "2     e         b           s         w       t    l               f   \n",
              "3     p         x           y         w       t    p               f   \n",
              "4     e         x           s         g       f    n               f   \n",
              "\n",
              "  gill-spacing gill-size gill-color  ... stalk-surface-below-ring  \\\n",
              "0            c         n          k  ...                        s   \n",
              "1            c         b          k  ...                        s   \n",
              "2            c         b          n  ...                        s   \n",
              "3            c         n          n  ...                        s   \n",
              "4            w         b          k  ...                        s   \n",
              "\n",
              "  stalk-color-above-ring stalk-color-below-ring veil-type veil-color  \\\n",
              "0                      w                      w         p          w   \n",
              "1                      w                      w         p          w   \n",
              "2                      w                      w         p          w   \n",
              "3                      w                      w         p          w   \n",
              "4                      w                      w         p          w   \n",
              "\n",
              "  ring-number ring-type spore-print-color population habitat  \n",
              "0           o         p                 k          s       u  \n",
              "1           o         p                 n          n       g  \n",
              "2           o         p                 n          n       m  \n",
              "3           o         p                 k          s       u  \n",
              "4           o         e                 n          a       g  \n",
              "\n",
              "[5 rows x 23 columns]"
            ],
            "text/html": [
              "\n",
              "  <div id=\"df-1153532c-0f18-45fe-830b-49907549d376\" class=\"colab-df-container\">\n",
              "    <div>\n",
              "<style scoped>\n",
              "    .dataframe tbody tr th:only-of-type {\n",
              "        vertical-align: middle;\n",
              "    }\n",
              "\n",
              "    .dataframe tbody tr th {\n",
              "        vertical-align: top;\n",
              "    }\n",
              "\n",
              "    .dataframe thead th {\n",
              "        text-align: right;\n",
              "    }\n",
              "</style>\n",
              "<table border=\"1\" class=\"dataframe\">\n",
              "  <thead>\n",
              "    <tr style=\"text-align: right;\">\n",
              "      <th></th>\n",
              "      <th>class</th>\n",
              "      <th>cap-shape</th>\n",
              "      <th>cap-surface</th>\n",
              "      <th>cap-color</th>\n",
              "      <th>bruises</th>\n",
              "      <th>odor</th>\n",
              "      <th>gill-attachment</th>\n",
              "      <th>gill-spacing</th>\n",
              "      <th>gill-size</th>\n",
              "      <th>gill-color</th>\n",
              "      <th>...</th>\n",
              "      <th>stalk-surface-below-ring</th>\n",
              "      <th>stalk-color-above-ring</th>\n",
              "      <th>stalk-color-below-ring</th>\n",
              "      <th>veil-type</th>\n",
              "      <th>veil-color</th>\n",
              "      <th>ring-number</th>\n",
              "      <th>ring-type</th>\n",
              "      <th>spore-print-color</th>\n",
              "      <th>population</th>\n",
              "      <th>habitat</th>\n",
              "    </tr>\n",
              "  </thead>\n",
              "  <tbody>\n",
              "    <tr>\n",
              "      <th>0</th>\n",
              "      <td>p</td>\n",
              "      <td>x</td>\n",
              "      <td>s</td>\n",
              "      <td>n</td>\n",
              "      <td>t</td>\n",
              "      <td>p</td>\n",
              "      <td>f</td>\n",
              "      <td>c</td>\n",
              "      <td>n</td>\n",
              "      <td>k</td>\n",
              "      <td>...</td>\n",
              "      <td>s</td>\n",
              "      <td>w</td>\n",
              "      <td>w</td>\n",
              "      <td>p</td>\n",
              "      <td>w</td>\n",
              "      <td>o</td>\n",
              "      <td>p</td>\n",
              "      <td>k</td>\n",
              "      <td>s</td>\n",
              "      <td>u</td>\n",
              "    </tr>\n",
              "    <tr>\n",
              "      <th>1</th>\n",
              "      <td>e</td>\n",
              "      <td>x</td>\n",
              "      <td>s</td>\n",
              "      <td>y</td>\n",
              "      <td>t</td>\n",
              "      <td>a</td>\n",
              "      <td>f</td>\n",
              "      <td>c</td>\n",
              "      <td>b</td>\n",
              "      <td>k</td>\n",
              "      <td>...</td>\n",
              "      <td>s</td>\n",
              "      <td>w</td>\n",
              "      <td>w</td>\n",
              "      <td>p</td>\n",
              "      <td>w</td>\n",
              "      <td>o</td>\n",
              "      <td>p</td>\n",
              "      <td>n</td>\n",
              "      <td>n</td>\n",
              "      <td>g</td>\n",
              "    </tr>\n",
              "    <tr>\n",
              "      <th>2</th>\n",
              "      <td>e</td>\n",
              "      <td>b</td>\n",
              "      <td>s</td>\n",
              "      <td>w</td>\n",
              "      <td>t</td>\n",
              "      <td>l</td>\n",
              "      <td>f</td>\n",
              "      <td>c</td>\n",
              "      <td>b</td>\n",
              "      <td>n</td>\n",
              "      <td>...</td>\n",
              "      <td>s</td>\n",
              "      <td>w</td>\n",
              "      <td>w</td>\n",
              "      <td>p</td>\n",
              "      <td>w</td>\n",
              "      <td>o</td>\n",
              "      <td>p</td>\n",
              "      <td>n</td>\n",
              "      <td>n</td>\n",
              "      <td>m</td>\n",
              "    </tr>\n",
              "    <tr>\n",
              "      <th>3</th>\n",
              "      <td>p</td>\n",
              "      <td>x</td>\n",
              "      <td>y</td>\n",
              "      <td>w</td>\n",
              "      <td>t</td>\n",
              "      <td>p</td>\n",
              "      <td>f</td>\n",
              "      <td>c</td>\n",
              "      <td>n</td>\n",
              "      <td>n</td>\n",
              "      <td>...</td>\n",
              "      <td>s</td>\n",
              "      <td>w</td>\n",
              "      <td>w</td>\n",
              "      <td>p</td>\n",
              "      <td>w</td>\n",
              "      <td>o</td>\n",
              "      <td>p</td>\n",
              "      <td>k</td>\n",
              "      <td>s</td>\n",
              "      <td>u</td>\n",
              "    </tr>\n",
              "    <tr>\n",
              "      <th>4</th>\n",
              "      <td>e</td>\n",
              "      <td>x</td>\n",
              "      <td>s</td>\n",
              "      <td>g</td>\n",
              "      <td>f</td>\n",
              "      <td>n</td>\n",
              "      <td>f</td>\n",
              "      <td>w</td>\n",
              "      <td>b</td>\n",
              "      <td>k</td>\n",
              "      <td>...</td>\n",
              "      <td>s</td>\n",
              "      <td>w</td>\n",
              "      <td>w</td>\n",
              "      <td>p</td>\n",
              "      <td>w</td>\n",
              "      <td>o</td>\n",
              "      <td>e</td>\n",
              "      <td>n</td>\n",
              "      <td>a</td>\n",
              "      <td>g</td>\n",
              "    </tr>\n",
              "  </tbody>\n",
              "</table>\n",
              "<p>5 rows × 23 columns</p>\n",
              "</div>\n",
              "    <div class=\"colab-df-buttons\">\n",
              "\n",
              "  <div class=\"colab-df-container\">\n",
              "    <button class=\"colab-df-convert\" onclick=\"convertToInteractive('df-1153532c-0f18-45fe-830b-49907549d376')\"\n",
              "            title=\"Convert this dataframe to an interactive table.\"\n",
              "            style=\"display:none;\">\n",
              "\n",
              "  <svg xmlns=\"http://www.w3.org/2000/svg\" height=\"24px\" viewBox=\"0 -960 960 960\">\n",
              "    <path d=\"M120-120v-720h720v720H120Zm60-500h600v-160H180v160Zm220 220h160v-160H400v160Zm0 220h160v-160H400v160ZM180-400h160v-160H180v160Zm440 0h160v-160H620v160ZM180-180h160v-160H180v160Zm440 0h160v-160H620v160Z\"/>\n",
              "  </svg>\n",
              "    </button>\n",
              "\n",
              "  <style>\n",
              "    .colab-df-container {\n",
              "      display:flex;\n",
              "      gap: 12px;\n",
              "    }\n",
              "\n",
              "    .colab-df-convert {\n",
              "      background-color: #E8F0FE;\n",
              "      border: none;\n",
              "      border-radius: 50%;\n",
              "      cursor: pointer;\n",
              "      display: none;\n",
              "      fill: #1967D2;\n",
              "      height: 32px;\n",
              "      padding: 0 0 0 0;\n",
              "      width: 32px;\n",
              "    }\n",
              "\n",
              "    .colab-df-convert:hover {\n",
              "      background-color: #E2EBFA;\n",
              "      box-shadow: 0px 1px 2px rgba(60, 64, 67, 0.3), 0px 1px 3px 1px rgba(60, 64, 67, 0.15);\n",
              "      fill: #174EA6;\n",
              "    }\n",
              "\n",
              "    .colab-df-buttons div {\n",
              "      margin-bottom: 4px;\n",
              "    }\n",
              "\n",
              "    [theme=dark] .colab-df-convert {\n",
              "      background-color: #3B4455;\n",
              "      fill: #D2E3FC;\n",
              "    }\n",
              "\n",
              "    [theme=dark] .colab-df-convert:hover {\n",
              "      background-color: #434B5C;\n",
              "      box-shadow: 0px 1px 3px 1px rgba(0, 0, 0, 0.15);\n",
              "      filter: drop-shadow(0px 1px 2px rgba(0, 0, 0, 0.3));\n",
              "      fill: #FFFFFF;\n",
              "    }\n",
              "  </style>\n",
              "\n",
              "    <script>\n",
              "      const buttonEl =\n",
              "        document.querySelector('#df-1153532c-0f18-45fe-830b-49907549d376 button.colab-df-convert');\n",
              "      buttonEl.style.display =\n",
              "        google.colab.kernel.accessAllowed ? 'block' : 'none';\n",
              "\n",
              "      async function convertToInteractive(key) {\n",
              "        const element = document.querySelector('#df-1153532c-0f18-45fe-830b-49907549d376');\n",
              "        const dataTable =\n",
              "          await google.colab.kernel.invokeFunction('convertToInteractive',\n",
              "                                                    [key], {});\n",
              "        if (!dataTable) return;\n",
              "\n",
              "        const docLinkHtml = 'Like what you see? Visit the ' +\n",
              "          '<a target=\"_blank\" href=https://colab.research.google.com/notebooks/data_table.ipynb>data table notebook</a>'\n",
              "          + ' to learn more about interactive tables.';\n",
              "        element.innerHTML = '';\n",
              "        dataTable['output_type'] = 'display_data';\n",
              "        await google.colab.output.renderOutput(dataTable, element);\n",
              "        const docLink = document.createElement('div');\n",
              "        docLink.innerHTML = docLinkHtml;\n",
              "        element.appendChild(docLink);\n",
              "      }\n",
              "    </script>\n",
              "  </div>\n",
              "\n",
              "\n",
              "<div id=\"df-c029edad-74cb-4caa-a861-d50749cd9fce\">\n",
              "  <button class=\"colab-df-quickchart\" onclick=\"quickchart('df-c029edad-74cb-4caa-a861-d50749cd9fce')\"\n",
              "            title=\"Suggest charts\"\n",
              "            style=\"display:none;\">\n",
              "\n",
              "<svg xmlns=\"http://www.w3.org/2000/svg\" height=\"24px\"viewBox=\"0 0 24 24\"\n",
              "     width=\"24px\">\n",
              "    <g>\n",
              "        <path d=\"M19 3H5c-1.1 0-2 .9-2 2v14c0 1.1.9 2 2 2h14c1.1 0 2-.9 2-2V5c0-1.1-.9-2-2-2zM9 17H7v-7h2v7zm4 0h-2V7h2v10zm4 0h-2v-4h2v4z\"/>\n",
              "    </g>\n",
              "</svg>\n",
              "  </button>\n",
              "\n",
              "<style>\n",
              "  .colab-df-quickchart {\n",
              "      --bg-color: #E8F0FE;\n",
              "      --fill-color: #1967D2;\n",
              "      --hover-bg-color: #E2EBFA;\n",
              "      --hover-fill-color: #174EA6;\n",
              "      --disabled-fill-color: #AAA;\n",
              "      --disabled-bg-color: #DDD;\n",
              "  }\n",
              "\n",
              "  [theme=dark] .colab-df-quickchart {\n",
              "      --bg-color: #3B4455;\n",
              "      --fill-color: #D2E3FC;\n",
              "      --hover-bg-color: #434B5C;\n",
              "      --hover-fill-color: #FFFFFF;\n",
              "      --disabled-bg-color: #3B4455;\n",
              "      --disabled-fill-color: #666;\n",
              "  }\n",
              "\n",
              "  .colab-df-quickchart {\n",
              "    background-color: var(--bg-color);\n",
              "    border: none;\n",
              "    border-radius: 50%;\n",
              "    cursor: pointer;\n",
              "    display: none;\n",
              "    fill: var(--fill-color);\n",
              "    height: 32px;\n",
              "    padding: 0;\n",
              "    width: 32px;\n",
              "  }\n",
              "\n",
              "  .colab-df-quickchart:hover {\n",
              "    background-color: var(--hover-bg-color);\n",
              "    box-shadow: 0 1px 2px rgba(60, 64, 67, 0.3), 0 1px 3px 1px rgba(60, 64, 67, 0.15);\n",
              "    fill: var(--button-hover-fill-color);\n",
              "  }\n",
              "\n",
              "  .colab-df-quickchart-complete:disabled,\n",
              "  .colab-df-quickchart-complete:disabled:hover {\n",
              "    background-color: var(--disabled-bg-color);\n",
              "    fill: var(--disabled-fill-color);\n",
              "    box-shadow: none;\n",
              "  }\n",
              "\n",
              "  .colab-df-spinner {\n",
              "    border: 2px solid var(--fill-color);\n",
              "    border-color: transparent;\n",
              "    border-bottom-color: var(--fill-color);\n",
              "    animation:\n",
              "      spin 1s steps(1) infinite;\n",
              "  }\n",
              "\n",
              "  @keyframes spin {\n",
              "    0% {\n",
              "      border-color: transparent;\n",
              "      border-bottom-color: var(--fill-color);\n",
              "      border-left-color: var(--fill-color);\n",
              "    }\n",
              "    20% {\n",
              "      border-color: transparent;\n",
              "      border-left-color: var(--fill-color);\n",
              "      border-top-color: var(--fill-color);\n",
              "    }\n",
              "    30% {\n",
              "      border-color: transparent;\n",
              "      border-left-color: var(--fill-color);\n",
              "      border-top-color: var(--fill-color);\n",
              "      border-right-color: var(--fill-color);\n",
              "    }\n",
              "    40% {\n",
              "      border-color: transparent;\n",
              "      border-right-color: var(--fill-color);\n",
              "      border-top-color: var(--fill-color);\n",
              "    }\n",
              "    60% {\n",
              "      border-color: transparent;\n",
              "      border-right-color: var(--fill-color);\n",
              "    }\n",
              "    80% {\n",
              "      border-color: transparent;\n",
              "      border-right-color: var(--fill-color);\n",
              "      border-bottom-color: var(--fill-color);\n",
              "    }\n",
              "    90% {\n",
              "      border-color: transparent;\n",
              "      border-bottom-color: var(--fill-color);\n",
              "    }\n",
              "  }\n",
              "</style>\n",
              "\n",
              "  <script>\n",
              "    async function quickchart(key) {\n",
              "      const quickchartButtonEl =\n",
              "        document.querySelector('#' + key + ' button');\n",
              "      quickchartButtonEl.disabled = true;  // To prevent multiple clicks.\n",
              "      quickchartButtonEl.classList.add('colab-df-spinner');\n",
              "      try {\n",
              "        const charts = await google.colab.kernel.invokeFunction(\n",
              "            'suggestCharts', [key], {});\n",
              "      } catch (error) {\n",
              "        console.error('Error during call to suggestCharts:', error);\n",
              "      }\n",
              "      quickchartButtonEl.classList.remove('colab-df-spinner');\n",
              "      quickchartButtonEl.classList.add('colab-df-quickchart-complete');\n",
              "    }\n",
              "    (() => {\n",
              "      let quickchartButtonEl =\n",
              "        document.querySelector('#df-c029edad-74cb-4caa-a861-d50749cd9fce button');\n",
              "      quickchartButtonEl.style.display =\n",
              "        google.colab.kernel.accessAllowed ? 'block' : 'none';\n",
              "    })();\n",
              "  </script>\n",
              "</div>\n",
              "    </div>\n",
              "  </div>\n"
            ],
            "application/vnd.google.colaboratory.intrinsic+json": {
              "type": "dataframe",
              "variable_name": "data"
            }
          },
          "metadata": {},
          "execution_count": 139
        }
      ]
    },
    {
      "cell_type": "code",
      "source": [
        "# Check shape or matrix type\n",
        "data.shape"
      ],
      "metadata": {
        "colab": {
          "base_uri": "https://localhost:8080/"
        },
        "id": "Pjbh3jOuR1d8",
        "outputId": "eb8ac3f9-a465-4b44-cff8-7f60194f2e6b"
      },
      "execution_count": null,
      "outputs": [
        {
          "output_type": "execute_result",
          "data": {
            "text/plain": [
              "(8124, 23)"
            ]
          },
          "metadata": {},
          "execution_count": 140
        }
      ]
    },
    {
      "cell_type": "code",
      "source": [
        "# Check the data types of each column and if there are missing values\n",
        "data.info()"
      ],
      "metadata": {
        "colab": {
          "base_uri": "https://localhost:8080/"
        },
        "id": "0POrnrfsR320",
        "outputId": "71d0724a-721b-4997-f0b2-e1a3785aabfe"
      },
      "execution_count": null,
      "outputs": [
        {
          "output_type": "stream",
          "name": "stdout",
          "text": [
            "<class 'pandas.core.frame.DataFrame'>\n",
            "RangeIndex: 8124 entries, 0 to 8123\n",
            "Data columns (total 23 columns):\n",
            " #   Column                    Non-Null Count  Dtype \n",
            "---  ------                    --------------  ----- \n",
            " 0   class                     8124 non-null   object\n",
            " 1   cap-shape                 8124 non-null   object\n",
            " 2   cap-surface               8124 non-null   object\n",
            " 3   cap-color                 8124 non-null   object\n",
            " 4   bruises                   8124 non-null   object\n",
            " 5   odor                      8124 non-null   object\n",
            " 6   gill-attachment           8124 non-null   object\n",
            " 7   gill-spacing              8124 non-null   object\n",
            " 8   gill-size                 8124 non-null   object\n",
            " 9   gill-color                8124 non-null   object\n",
            " 10  stalk-shape               8124 non-null   object\n",
            " 11  stalk-root                8124 non-null   object\n",
            " 12  stalk-surface-above-ring  8124 non-null   object\n",
            " 13  stalk-surface-below-ring  8124 non-null   object\n",
            " 14  stalk-color-above-ring    8124 non-null   object\n",
            " 15  stalk-color-below-ring    8124 non-null   object\n",
            " 16  veil-type                 8124 non-null   object\n",
            " 17  veil-color                8124 non-null   object\n",
            " 18  ring-number               8124 non-null   object\n",
            " 19  ring-type                 8124 non-null   object\n",
            " 20  spore-print-color         8124 non-null   object\n",
            " 21  population                8124 non-null   object\n",
            " 22  habitat                   8124 non-null   object\n",
            "dtypes: object(23)\n",
            "memory usage: 1.4+ MB\n"
          ]
        }
      ]
    },
    {
      "cell_type": "code",
      "source": [
        "# Count unique values for e = edible and p = poisonous\n",
        "# Can also be done with other columns, just change the 'class' to the other column name e.g 'cap-shape'\n",
        "data['class'].value_counts()"
      ],
      "metadata": {
        "colab": {
          "base_uri": "https://localhost:8080/"
        },
        "id": "Rg9xyfpcL6gq",
        "outputId": "cac4d9dc-bfd4-4800-de86-5fae8c19d184"
      },
      "execution_count": null,
      "outputs": [
        {
          "output_type": "execute_result",
          "data": {
            "text/plain": [
              "e    4208\n",
              "p    3916\n",
              "Name: class, dtype: int64"
            ]
          },
          "metadata": {},
          "execution_count": 142
        }
      ]
    },
    {
      "cell_type": "markdown",
      "source": [
        "## **Preprocessing Section**\n",
        "\n",
        "### *Convert column values into numerical format/representation*"
      ],
      "metadata": {
        "id": "V-lVRld9Qkn4"
      }
    },
    {
      "cell_type": "code",
      "source": [
        "labelEncoder = LabelEncoder()"
      ],
      "metadata": {
        "id": "Byr1IUSQXFbr"
      },
      "execution_count": null,
      "outputs": []
    },
    {
      "cell_type": "code",
      "source": [
        "for column in data.columns:\n",
        "  data[column] = labelEncoder.fit_transform(data[column])"
      ],
      "metadata": {
        "id": "fgO5fslyXTx5"
      },
      "execution_count": null,
      "outputs": []
    },
    {
      "cell_type": "code",
      "source": [
        "# Check data frame again\n",
        "data.head()"
      ],
      "metadata": {
        "colab": {
          "base_uri": "https://localhost:8080/",
          "height": 253
        },
        "id": "zvIsKq9SX-jq",
        "outputId": "68aa6bc3-31bd-480f-9722-84b660a5c94b"
      },
      "execution_count": null,
      "outputs": [
        {
          "output_type": "execute_result",
          "data": {
            "text/plain": [
              "   class  cap-shape  cap-surface  cap-color  bruises  odor  gill-attachment  \\\n",
              "0      1          5            2          4        1     6                1   \n",
              "1      0          5            2          9        1     0                1   \n",
              "2      0          0            2          8        1     3                1   \n",
              "3      1          5            3          8        1     6                1   \n",
              "4      0          5            2          3        0     5                1   \n",
              "\n",
              "   gill-spacing  gill-size  gill-color  ...  stalk-surface-below-ring  \\\n",
              "0             0          1           4  ...                         2   \n",
              "1             0          0           4  ...                         2   \n",
              "2             0          0           5  ...                         2   \n",
              "3             0          1           5  ...                         2   \n",
              "4             1          0           4  ...                         2   \n",
              "\n",
              "   stalk-color-above-ring  stalk-color-below-ring  veil-type  veil-color  \\\n",
              "0                       7                       7          0           2   \n",
              "1                       7                       7          0           2   \n",
              "2                       7                       7          0           2   \n",
              "3                       7                       7          0           2   \n",
              "4                       7                       7          0           2   \n",
              "\n",
              "   ring-number  ring-type  spore-print-color  population  habitat  \n",
              "0            1          4                  2           3        5  \n",
              "1            1          4                  3           2        1  \n",
              "2            1          4                  3           2        3  \n",
              "3            1          4                  2           3        5  \n",
              "4            1          0                  3           0        1  \n",
              "\n",
              "[5 rows x 23 columns]"
            ],
            "text/html": [
              "\n",
              "  <div id=\"df-194396c3-a186-4303-992d-30b02354fec4\" class=\"colab-df-container\">\n",
              "    <div>\n",
              "<style scoped>\n",
              "    .dataframe tbody tr th:only-of-type {\n",
              "        vertical-align: middle;\n",
              "    }\n",
              "\n",
              "    .dataframe tbody tr th {\n",
              "        vertical-align: top;\n",
              "    }\n",
              "\n",
              "    .dataframe thead th {\n",
              "        text-align: right;\n",
              "    }\n",
              "</style>\n",
              "<table border=\"1\" class=\"dataframe\">\n",
              "  <thead>\n",
              "    <tr style=\"text-align: right;\">\n",
              "      <th></th>\n",
              "      <th>class</th>\n",
              "      <th>cap-shape</th>\n",
              "      <th>cap-surface</th>\n",
              "      <th>cap-color</th>\n",
              "      <th>bruises</th>\n",
              "      <th>odor</th>\n",
              "      <th>gill-attachment</th>\n",
              "      <th>gill-spacing</th>\n",
              "      <th>gill-size</th>\n",
              "      <th>gill-color</th>\n",
              "      <th>...</th>\n",
              "      <th>stalk-surface-below-ring</th>\n",
              "      <th>stalk-color-above-ring</th>\n",
              "      <th>stalk-color-below-ring</th>\n",
              "      <th>veil-type</th>\n",
              "      <th>veil-color</th>\n",
              "      <th>ring-number</th>\n",
              "      <th>ring-type</th>\n",
              "      <th>spore-print-color</th>\n",
              "      <th>population</th>\n",
              "      <th>habitat</th>\n",
              "    </tr>\n",
              "  </thead>\n",
              "  <tbody>\n",
              "    <tr>\n",
              "      <th>0</th>\n",
              "      <td>1</td>\n",
              "      <td>5</td>\n",
              "      <td>2</td>\n",
              "      <td>4</td>\n",
              "      <td>1</td>\n",
              "      <td>6</td>\n",
              "      <td>1</td>\n",
              "      <td>0</td>\n",
              "      <td>1</td>\n",
              "      <td>4</td>\n",
              "      <td>...</td>\n",
              "      <td>2</td>\n",
              "      <td>7</td>\n",
              "      <td>7</td>\n",
              "      <td>0</td>\n",
              "      <td>2</td>\n",
              "      <td>1</td>\n",
              "      <td>4</td>\n",
              "      <td>2</td>\n",
              "      <td>3</td>\n",
              "      <td>5</td>\n",
              "    </tr>\n",
              "    <tr>\n",
              "      <th>1</th>\n",
              "      <td>0</td>\n",
              "      <td>5</td>\n",
              "      <td>2</td>\n",
              "      <td>9</td>\n",
              "      <td>1</td>\n",
              "      <td>0</td>\n",
              "      <td>1</td>\n",
              "      <td>0</td>\n",
              "      <td>0</td>\n",
              "      <td>4</td>\n",
              "      <td>...</td>\n",
              "      <td>2</td>\n",
              "      <td>7</td>\n",
              "      <td>7</td>\n",
              "      <td>0</td>\n",
              "      <td>2</td>\n",
              "      <td>1</td>\n",
              "      <td>4</td>\n",
              "      <td>3</td>\n",
              "      <td>2</td>\n",
              "      <td>1</td>\n",
              "    </tr>\n",
              "    <tr>\n",
              "      <th>2</th>\n",
              "      <td>0</td>\n",
              "      <td>0</td>\n",
              "      <td>2</td>\n",
              "      <td>8</td>\n",
              "      <td>1</td>\n",
              "      <td>3</td>\n",
              "      <td>1</td>\n",
              "      <td>0</td>\n",
              "      <td>0</td>\n",
              "      <td>5</td>\n",
              "      <td>...</td>\n",
              "      <td>2</td>\n",
              "      <td>7</td>\n",
              "      <td>7</td>\n",
              "      <td>0</td>\n",
              "      <td>2</td>\n",
              "      <td>1</td>\n",
              "      <td>4</td>\n",
              "      <td>3</td>\n",
              "      <td>2</td>\n",
              "      <td>3</td>\n",
              "    </tr>\n",
              "    <tr>\n",
              "      <th>3</th>\n",
              "      <td>1</td>\n",
              "      <td>5</td>\n",
              "      <td>3</td>\n",
              "      <td>8</td>\n",
              "      <td>1</td>\n",
              "      <td>6</td>\n",
              "      <td>1</td>\n",
              "      <td>0</td>\n",
              "      <td>1</td>\n",
              "      <td>5</td>\n",
              "      <td>...</td>\n",
              "      <td>2</td>\n",
              "      <td>7</td>\n",
              "      <td>7</td>\n",
              "      <td>0</td>\n",
              "      <td>2</td>\n",
              "      <td>1</td>\n",
              "      <td>4</td>\n",
              "      <td>2</td>\n",
              "      <td>3</td>\n",
              "      <td>5</td>\n",
              "    </tr>\n",
              "    <tr>\n",
              "      <th>4</th>\n",
              "      <td>0</td>\n",
              "      <td>5</td>\n",
              "      <td>2</td>\n",
              "      <td>3</td>\n",
              "      <td>0</td>\n",
              "      <td>5</td>\n",
              "      <td>1</td>\n",
              "      <td>1</td>\n",
              "      <td>0</td>\n",
              "      <td>4</td>\n",
              "      <td>...</td>\n",
              "      <td>2</td>\n",
              "      <td>7</td>\n",
              "      <td>7</td>\n",
              "      <td>0</td>\n",
              "      <td>2</td>\n",
              "      <td>1</td>\n",
              "      <td>0</td>\n",
              "      <td>3</td>\n",
              "      <td>0</td>\n",
              "      <td>1</td>\n",
              "    </tr>\n",
              "  </tbody>\n",
              "</table>\n",
              "<p>5 rows × 23 columns</p>\n",
              "</div>\n",
              "    <div class=\"colab-df-buttons\">\n",
              "\n",
              "  <div class=\"colab-df-container\">\n",
              "    <button class=\"colab-df-convert\" onclick=\"convertToInteractive('df-194396c3-a186-4303-992d-30b02354fec4')\"\n",
              "            title=\"Convert this dataframe to an interactive table.\"\n",
              "            style=\"display:none;\">\n",
              "\n",
              "  <svg xmlns=\"http://www.w3.org/2000/svg\" height=\"24px\" viewBox=\"0 -960 960 960\">\n",
              "    <path d=\"M120-120v-720h720v720H120Zm60-500h600v-160H180v160Zm220 220h160v-160H400v160Zm0 220h160v-160H400v160ZM180-400h160v-160H180v160Zm440 0h160v-160H620v160ZM180-180h160v-160H180v160Zm440 0h160v-160H620v160Z\"/>\n",
              "  </svg>\n",
              "    </button>\n",
              "\n",
              "  <style>\n",
              "    .colab-df-container {\n",
              "      display:flex;\n",
              "      gap: 12px;\n",
              "    }\n",
              "\n",
              "    .colab-df-convert {\n",
              "      background-color: #E8F0FE;\n",
              "      border: none;\n",
              "      border-radius: 50%;\n",
              "      cursor: pointer;\n",
              "      display: none;\n",
              "      fill: #1967D2;\n",
              "      height: 32px;\n",
              "      padding: 0 0 0 0;\n",
              "      width: 32px;\n",
              "    }\n",
              "\n",
              "    .colab-df-convert:hover {\n",
              "      background-color: #E2EBFA;\n",
              "      box-shadow: 0px 1px 2px rgba(60, 64, 67, 0.3), 0px 1px 3px 1px rgba(60, 64, 67, 0.15);\n",
              "      fill: #174EA6;\n",
              "    }\n",
              "\n",
              "    .colab-df-buttons div {\n",
              "      margin-bottom: 4px;\n",
              "    }\n",
              "\n",
              "    [theme=dark] .colab-df-convert {\n",
              "      background-color: #3B4455;\n",
              "      fill: #D2E3FC;\n",
              "    }\n",
              "\n",
              "    [theme=dark] .colab-df-convert:hover {\n",
              "      background-color: #434B5C;\n",
              "      box-shadow: 0px 1px 3px 1px rgba(0, 0, 0, 0.15);\n",
              "      filter: drop-shadow(0px 1px 2px rgba(0, 0, 0, 0.3));\n",
              "      fill: #FFFFFF;\n",
              "    }\n",
              "  </style>\n",
              "\n",
              "    <script>\n",
              "      const buttonEl =\n",
              "        document.querySelector('#df-194396c3-a186-4303-992d-30b02354fec4 button.colab-df-convert');\n",
              "      buttonEl.style.display =\n",
              "        google.colab.kernel.accessAllowed ? 'block' : 'none';\n",
              "\n",
              "      async function convertToInteractive(key) {\n",
              "        const element = document.querySelector('#df-194396c3-a186-4303-992d-30b02354fec4');\n",
              "        const dataTable =\n",
              "          await google.colab.kernel.invokeFunction('convertToInteractive',\n",
              "                                                    [key], {});\n",
              "        if (!dataTable) return;\n",
              "\n",
              "        const docLinkHtml = 'Like what you see? Visit the ' +\n",
              "          '<a target=\"_blank\" href=https://colab.research.google.com/notebooks/data_table.ipynb>data table notebook</a>'\n",
              "          + ' to learn more about interactive tables.';\n",
              "        element.innerHTML = '';\n",
              "        dataTable['output_type'] = 'display_data';\n",
              "        await google.colab.output.renderOutput(dataTable, element);\n",
              "        const docLink = document.createElement('div');\n",
              "        docLink.innerHTML = docLinkHtml;\n",
              "        element.appendChild(docLink);\n",
              "      }\n",
              "    </script>\n",
              "  </div>\n",
              "\n",
              "\n",
              "<div id=\"df-2a091a87-7dab-4ff7-8283-5f27eeb1108a\">\n",
              "  <button class=\"colab-df-quickchart\" onclick=\"quickchart('df-2a091a87-7dab-4ff7-8283-5f27eeb1108a')\"\n",
              "            title=\"Suggest charts\"\n",
              "            style=\"display:none;\">\n",
              "\n",
              "<svg xmlns=\"http://www.w3.org/2000/svg\" height=\"24px\"viewBox=\"0 0 24 24\"\n",
              "     width=\"24px\">\n",
              "    <g>\n",
              "        <path d=\"M19 3H5c-1.1 0-2 .9-2 2v14c0 1.1.9 2 2 2h14c1.1 0 2-.9 2-2V5c0-1.1-.9-2-2-2zM9 17H7v-7h2v7zm4 0h-2V7h2v10zm4 0h-2v-4h2v4z\"/>\n",
              "    </g>\n",
              "</svg>\n",
              "  </button>\n",
              "\n",
              "<style>\n",
              "  .colab-df-quickchart {\n",
              "      --bg-color: #E8F0FE;\n",
              "      --fill-color: #1967D2;\n",
              "      --hover-bg-color: #E2EBFA;\n",
              "      --hover-fill-color: #174EA6;\n",
              "      --disabled-fill-color: #AAA;\n",
              "      --disabled-bg-color: #DDD;\n",
              "  }\n",
              "\n",
              "  [theme=dark] .colab-df-quickchart {\n",
              "      --bg-color: #3B4455;\n",
              "      --fill-color: #D2E3FC;\n",
              "      --hover-bg-color: #434B5C;\n",
              "      --hover-fill-color: #FFFFFF;\n",
              "      --disabled-bg-color: #3B4455;\n",
              "      --disabled-fill-color: #666;\n",
              "  }\n",
              "\n",
              "  .colab-df-quickchart {\n",
              "    background-color: var(--bg-color);\n",
              "    border: none;\n",
              "    border-radius: 50%;\n",
              "    cursor: pointer;\n",
              "    display: none;\n",
              "    fill: var(--fill-color);\n",
              "    height: 32px;\n",
              "    padding: 0;\n",
              "    width: 32px;\n",
              "  }\n",
              "\n",
              "  .colab-df-quickchart:hover {\n",
              "    background-color: var(--hover-bg-color);\n",
              "    box-shadow: 0 1px 2px rgba(60, 64, 67, 0.3), 0 1px 3px 1px rgba(60, 64, 67, 0.15);\n",
              "    fill: var(--button-hover-fill-color);\n",
              "  }\n",
              "\n",
              "  .colab-df-quickchart-complete:disabled,\n",
              "  .colab-df-quickchart-complete:disabled:hover {\n",
              "    background-color: var(--disabled-bg-color);\n",
              "    fill: var(--disabled-fill-color);\n",
              "    box-shadow: none;\n",
              "  }\n",
              "\n",
              "  .colab-df-spinner {\n",
              "    border: 2px solid var(--fill-color);\n",
              "    border-color: transparent;\n",
              "    border-bottom-color: var(--fill-color);\n",
              "    animation:\n",
              "      spin 1s steps(1) infinite;\n",
              "  }\n",
              "\n",
              "  @keyframes spin {\n",
              "    0% {\n",
              "      border-color: transparent;\n",
              "      border-bottom-color: var(--fill-color);\n",
              "      border-left-color: var(--fill-color);\n",
              "    }\n",
              "    20% {\n",
              "      border-color: transparent;\n",
              "      border-left-color: var(--fill-color);\n",
              "      border-top-color: var(--fill-color);\n",
              "    }\n",
              "    30% {\n",
              "      border-color: transparent;\n",
              "      border-left-color: var(--fill-color);\n",
              "      border-top-color: var(--fill-color);\n",
              "      border-right-color: var(--fill-color);\n",
              "    }\n",
              "    40% {\n",
              "      border-color: transparent;\n",
              "      border-right-color: var(--fill-color);\n",
              "      border-top-color: var(--fill-color);\n",
              "    }\n",
              "    60% {\n",
              "      border-color: transparent;\n",
              "      border-right-color: var(--fill-color);\n",
              "    }\n",
              "    80% {\n",
              "      border-color: transparent;\n",
              "      border-right-color: var(--fill-color);\n",
              "      border-bottom-color: var(--fill-color);\n",
              "    }\n",
              "    90% {\n",
              "      border-color: transparent;\n",
              "      border-bottom-color: var(--fill-color);\n",
              "    }\n",
              "  }\n",
              "</style>\n",
              "\n",
              "  <script>\n",
              "    async function quickchart(key) {\n",
              "      const quickchartButtonEl =\n",
              "        document.querySelector('#' + key + ' button');\n",
              "      quickchartButtonEl.disabled = true;  // To prevent multiple clicks.\n",
              "      quickchartButtonEl.classList.add('colab-df-spinner');\n",
              "      try {\n",
              "        const charts = await google.colab.kernel.invokeFunction(\n",
              "            'suggestCharts', [key], {});\n",
              "      } catch (error) {\n",
              "        console.error('Error during call to suggestCharts:', error);\n",
              "      }\n",
              "      quickchartButtonEl.classList.remove('colab-df-spinner');\n",
              "      quickchartButtonEl.classList.add('colab-df-quickchart-complete');\n",
              "    }\n",
              "    (() => {\n",
              "      let quickchartButtonEl =\n",
              "        document.querySelector('#df-2a091a87-7dab-4ff7-8283-5f27eeb1108a button');\n",
              "      quickchartButtonEl.style.display =\n",
              "        google.colab.kernel.accessAllowed ? 'block' : 'none';\n",
              "    })();\n",
              "  </script>\n",
              "</div>\n",
              "    </div>\n",
              "  </div>\n"
            ],
            "application/vnd.google.colaboratory.intrinsic+json": {
              "type": "dataframe",
              "variable_name": "data"
            }
          },
          "metadata": {},
          "execution_count": 145
        }
      ]
    },
    {
      "cell_type": "markdown",
      "source": [
        "\n",
        "\n",
        "### Splitting of dataset"
      ],
      "metadata": {
        "id": "XSCH2oM5TBbn"
      }
    },
    {
      "cell_type": "code",
      "source": [
        "# Separate data y = class column (poisonous/edible) x = rest of the dataframe w/o class column\n",
        "X = data.drop(columns='class')\n",
        "y = data['class']"
      ],
      "metadata": {
        "id": "q8DMuuYgYUQz"
      },
      "execution_count": null,
      "outputs": []
    },
    {
      "cell_type": "code",
      "source": [
        "# Training stage 1.0\n",
        "# use 25% for test size, 75% for training size\n",
        "x_train, x_test, y_train, y_test = train_test_split(X, y, test_size = 0.25, shuffle=True, random_state=69)"
      ],
      "metadata": {
        "id": "tkSLLVcYamsI"
      },
      "execution_count": null,
      "outputs": []
    },
    {
      "cell_type": "code",
      "source": [
        "# Get an idea of the number of samples and features in the y training set.\n",
        "y_train.shape"
      ],
      "metadata": {
        "colab": {
          "base_uri": "https://localhost:8080/"
        },
        "id": "VtMOkmtXbVSk",
        "outputId": "1ee5a388-b668-4ed2-a7eb-0f342b4c1d24"
      },
      "execution_count": null,
      "outputs": [
        {
          "output_type": "execute_result",
          "data": {
            "text/plain": [
              "(6093,)"
            ]
          },
          "metadata": {},
          "execution_count": 148
        }
      ]
    },
    {
      "cell_type": "code",
      "source": [
        "# Get an idea of the number of samples and features in the x training set.\n",
        "x_train.shape"
      ],
      "metadata": {
        "colab": {
          "base_uri": "https://localhost:8080/"
        },
        "id": "YfhXdmADy-9g",
        "outputId": "70331f31-a434-44b9-ef05-0d98869b045f"
      },
      "execution_count": null,
      "outputs": [
        {
          "output_type": "execute_result",
          "data": {
            "text/plain": [
              "(6093, 22)"
            ]
          },
          "metadata": {},
          "execution_count": 149
        }
      ]
    },
    {
      "cell_type": "markdown",
      "source": [
        "### Additional preprocessing step"
      ],
      "metadata": {
        "id": "VM1AlEx6orNM"
      }
    },
    {
      "cell_type": "code",
      "source": [
        "# Transform the y_train to binary matrix representation\n",
        "# Since the y_train only consists of 0 and 1, which is the numerical representation for edible and poisonous, then the num_classes should be 2\n",
        "y_train = tf.keras.utils.to_categorical(y_train, num_classes = 2)"
      ],
      "metadata": {
        "id": "8oNLsjXI5Hf8"
      },
      "execution_count": null,
      "outputs": []
    },
    {
      "cell_type": "markdown",
      "source": [
        "# **Model Creation (Neural Network)**"
      ],
      "metadata": {
        "id": "OryJIDioCey9"
      }
    },
    {
      "cell_type": "code",
      "source": [
        "# Sequential model for building neural networks\n",
        "model = tf.keras.Sequential()"
      ],
      "metadata": {
        "id": "IInxBhsL6cVa"
      },
      "execution_count": null,
      "outputs": []
    },
    {
      "cell_type": "markdown",
      "source": [
        "### Defining structures / Adding layers"
      ],
      "metadata": {
        "id": "Qkjbsd-6NWon"
      }
    },
    {
      "cell_type": "code",
      "source": [
        "# Add first dense layer to help recognize basic shapes or patterns of our model\n",
        "model.add(tf.keras.layers.Dense(units=32, activation='relu', input_shape=(x_train.shape[-1],)))\n",
        "# Adding second layer builds on what the first dense layer learned and helps in understanding more complex patterns and details\n",
        "# input_shape not necessary for second Dense layer since we included it in the first one\n",
        "model.add(tf.keras.layers.Dense(units=32, activation='relu'))\n",
        "\n",
        "# Percentage of neurons to drop or disable randomly to prevent overfitting\n",
        "model.add(tf.keras.layers.Dropout(0.50))\n",
        "\n",
        "# Output\n",
        "# softmax === converts the values into probabilities\n",
        "model.add(tf.keras.layers.Dense(units=2, activation='softmax'))"
      ],
      "metadata": {
        "id": "JdqIpq5DNSGQ"
      },
      "execution_count": null,
      "outputs": []
    },
    {
      "cell_type": "code",
      "source": [
        "model.compile(optimizer='Adam', loss='binary_crossentropy', metrics=['accuracy'])\n",
        "model.summary()"
      ],
      "metadata": {
        "colab": {
          "base_uri": "https://localhost:8080/"
        },
        "id": "BwdSoJFp8cK7",
        "outputId": "48a8cac1-d484-466d-f95f-0478eed1d3fe"
      },
      "execution_count": null,
      "outputs": [
        {
          "output_type": "stream",
          "name": "stdout",
          "text": [
            "Model: \"sequential_5\"\n",
            "_________________________________________________________________\n",
            " Layer (type)                Output Shape              Param #   \n",
            "=================================================================\n",
            " dense_15 (Dense)            (None, 32)                736       \n",
            "                                                                 \n",
            " dense_16 (Dense)            (None, 32)                1056      \n",
            "                                                                 \n",
            " dropout_5 (Dropout)         (None, 32)                0         \n",
            "                                                                 \n",
            " dense_17 (Dense)            (None, 2)                 66        \n",
            "                                                                 \n",
            "=================================================================\n",
            "Total params: 1858 (7.26 KB)\n",
            "Trainable params: 1858 (7.26 KB)\n",
            "Non-trainable params: 0 (0.00 Byte)\n",
            "_________________________________________________________________\n"
          ]
        }
      ]
    },
    {
      "cell_type": "markdown",
      "source": [
        "# **Model Training**"
      ],
      "metadata": {
        "id": "iq9MxvUUTVnL"
      }
    },
    {
      "cell_type": "code",
      "source": [
        "history = model.fit(x_train, y_train, batch_size=500, epochs=100, validation_split=0.2, verbose=2)"
      ],
      "metadata": {
        "colab": {
          "base_uri": "https://localhost:8080/"
        },
        "id": "6MwSfrjH-pcI",
        "outputId": "8e115e67-427e-4c45-e542-0face9bc0198"
      },
      "execution_count": null,
      "outputs": [
        {
          "output_type": "stream",
          "name": "stdout",
          "text": [
            "Epoch 1/100\n",
            "10/10 - 2s - loss: 1.5421 - accuracy: 0.4860 - val_loss: 0.8651 - val_accuracy: 0.5119 - 2s/epoch - 228ms/step\n",
            "Epoch 2/100\n",
            "10/10 - 0s - loss: 0.9996 - accuracy: 0.5304 - val_loss: 0.5959 - val_accuracy: 0.6842 - 131ms/epoch - 13ms/step\n",
            "Epoch 3/100\n",
            "10/10 - 0s - loss: 0.7656 - accuracy: 0.6293 - val_loss: 0.5205 - val_accuracy: 0.8015 - 132ms/epoch - 13ms/step\n",
            "Epoch 4/100\n",
            "10/10 - 0s - loss: 0.6617 - accuracy: 0.6877 - val_loss: 0.4715 - val_accuracy: 0.8220 - 169ms/epoch - 17ms/step\n",
            "Epoch 5/100\n",
            "10/10 - 0s - loss: 0.5804 - accuracy: 0.7323 - val_loss: 0.4426 - val_accuracy: 0.8368 - 125ms/epoch - 12ms/step\n",
            "Epoch 6/100\n",
            "10/10 - 0s - loss: 0.5284 - accuracy: 0.7702 - val_loss: 0.4132 - val_accuracy: 0.8491 - 154ms/epoch - 15ms/step\n",
            "Epoch 7/100\n",
            "10/10 - 0s - loss: 0.4819 - accuracy: 0.7942 - val_loss: 0.3864 - val_accuracy: 0.8638 - 126ms/epoch - 13ms/step\n",
            "Epoch 8/100\n",
            "10/10 - 0s - loss: 0.4536 - accuracy: 0.8104 - val_loss: 0.3631 - val_accuracy: 0.8704 - 113ms/epoch - 11ms/step\n",
            "Epoch 9/100\n",
            "10/10 - 0s - loss: 0.4253 - accuracy: 0.8291 - val_loss: 0.3453 - val_accuracy: 0.8720 - 112ms/epoch - 11ms/step\n",
            "Epoch 10/100\n",
            "10/10 - 0s - loss: 0.4084 - accuracy: 0.8355 - val_loss: 0.3266 - val_accuracy: 0.8802 - 97ms/epoch - 10ms/step\n",
            "Epoch 11/100\n",
            "10/10 - 0s - loss: 0.3802 - accuracy: 0.8537 - val_loss: 0.3060 - val_accuracy: 0.8901 - 132ms/epoch - 13ms/step\n",
            "Epoch 12/100\n",
            "10/10 - 0s - loss: 0.3675 - accuracy: 0.8558 - val_loss: 0.2889 - val_accuracy: 0.8958 - 242ms/epoch - 24ms/step\n",
            "Epoch 13/100\n",
            "10/10 - 0s - loss: 0.3438 - accuracy: 0.8699 - val_loss: 0.2742 - val_accuracy: 0.9016 - 172ms/epoch - 17ms/step\n",
            "Epoch 14/100\n",
            "10/10 - 0s - loss: 0.3294 - accuracy: 0.8732 - val_loss: 0.2598 - val_accuracy: 0.9089 - 124ms/epoch - 12ms/step\n",
            "Epoch 15/100\n",
            "10/10 - 0s - loss: 0.3061 - accuracy: 0.8888 - val_loss: 0.2463 - val_accuracy: 0.9180 - 267ms/epoch - 27ms/step\n",
            "Epoch 16/100\n",
            "10/10 - 0s - loss: 0.3038 - accuracy: 0.8882 - val_loss: 0.2330 - val_accuracy: 0.9196 - 190ms/epoch - 19ms/step\n",
            "Epoch 17/100\n",
            "10/10 - 0s - loss: 0.2899 - accuracy: 0.8982 - val_loss: 0.2229 - val_accuracy: 0.9229 - 191ms/epoch - 19ms/step\n",
            "Epoch 18/100\n",
            "10/10 - 0s - loss: 0.2724 - accuracy: 0.9021 - val_loss: 0.2122 - val_accuracy: 0.9270 - 166ms/epoch - 17ms/step\n",
            "Epoch 19/100\n",
            "10/10 - 0s - loss: 0.2643 - accuracy: 0.9042 - val_loss: 0.2030 - val_accuracy: 0.9278 - 252ms/epoch - 25ms/step\n",
            "Epoch 20/100\n",
            "10/10 - 0s - loss: 0.2583 - accuracy: 0.9087 - val_loss: 0.1949 - val_accuracy: 0.9311 - 213ms/epoch - 21ms/step\n",
            "Epoch 21/100\n",
            "10/10 - 0s - loss: 0.2497 - accuracy: 0.9114 - val_loss: 0.1872 - val_accuracy: 0.9319 - 378ms/epoch - 38ms/step\n",
            "Epoch 22/100\n",
            "10/10 - 0s - loss: 0.2404 - accuracy: 0.9185 - val_loss: 0.1821 - val_accuracy: 0.9336 - 228ms/epoch - 23ms/step\n",
            "Epoch 23/100\n",
            "10/10 - 0s - loss: 0.2319 - accuracy: 0.9185 - val_loss: 0.1742 - val_accuracy: 0.9352 - 216ms/epoch - 22ms/step\n",
            "Epoch 24/100\n",
            "10/10 - 0s - loss: 0.2241 - accuracy: 0.9247 - val_loss: 0.1672 - val_accuracy: 0.9360 - 276ms/epoch - 28ms/step\n",
            "Epoch 25/100\n",
            "10/10 - 0s - loss: 0.2189 - accuracy: 0.9214 - val_loss: 0.1619 - val_accuracy: 0.9401 - 150ms/epoch - 15ms/step\n",
            "Epoch 26/100\n",
            "10/10 - 0s - loss: 0.2066 - accuracy: 0.9270 - val_loss: 0.1553 - val_accuracy: 0.9426 - 101ms/epoch - 10ms/step\n",
            "Epoch 27/100\n",
            "10/10 - 0s - loss: 0.2030 - accuracy: 0.9268 - val_loss: 0.1511 - val_accuracy: 0.9434 - 116ms/epoch - 12ms/step\n",
            "Epoch 28/100\n",
            "10/10 - 0s - loss: 0.1942 - accuracy: 0.9311 - val_loss: 0.1478 - val_accuracy: 0.9459 - 192ms/epoch - 19ms/step\n",
            "Epoch 29/100\n",
            "10/10 - 0s - loss: 0.1934 - accuracy: 0.9323 - val_loss: 0.1415 - val_accuracy: 0.9442 - 166ms/epoch - 17ms/step\n",
            "Epoch 30/100\n",
            "10/10 - 0s - loss: 0.1839 - accuracy: 0.9329 - val_loss: 0.1366 - val_accuracy: 0.9467 - 94ms/epoch - 9ms/step\n",
            "Epoch 31/100\n",
            "10/10 - 0s - loss: 0.1740 - accuracy: 0.9358 - val_loss: 0.1335 - val_accuracy: 0.9524 - 110ms/epoch - 11ms/step\n",
            "Epoch 32/100\n",
            "10/10 - 0s - loss: 0.1743 - accuracy: 0.9387 - val_loss: 0.1270 - val_accuracy: 0.9532 - 132ms/epoch - 13ms/step\n",
            "Epoch 33/100\n",
            "10/10 - 0s - loss: 0.1678 - accuracy: 0.9434 - val_loss: 0.1231 - val_accuracy: 0.9565 - 92ms/epoch - 9ms/step\n",
            "Epoch 34/100\n",
            "10/10 - 0s - loss: 0.1609 - accuracy: 0.9423 - val_loss: 0.1179 - val_accuracy: 0.9557 - 150ms/epoch - 15ms/step\n",
            "Epoch 35/100\n",
            "10/10 - 0s - loss: 0.1566 - accuracy: 0.9442 - val_loss: 0.1141 - val_accuracy: 0.9631 - 134ms/epoch - 13ms/step\n",
            "Epoch 36/100\n",
            "10/10 - 0s - loss: 0.1523 - accuracy: 0.9446 - val_loss: 0.1100 - val_accuracy: 0.9614 - 134ms/epoch - 13ms/step\n",
            "Epoch 37/100\n",
            "10/10 - 0s - loss: 0.1512 - accuracy: 0.9479 - val_loss: 0.1078 - val_accuracy: 0.9664 - 120ms/epoch - 12ms/step\n",
            "Epoch 38/100\n",
            "10/10 - 0s - loss: 0.1449 - accuracy: 0.9495 - val_loss: 0.1020 - val_accuracy: 0.9647 - 126ms/epoch - 13ms/step\n",
            "Epoch 39/100\n",
            "10/10 - 0s - loss: 0.1426 - accuracy: 0.9503 - val_loss: 0.0980 - val_accuracy: 0.9647 - 122ms/epoch - 12ms/step\n",
            "Epoch 40/100\n",
            "10/10 - 0s - loss: 0.1343 - accuracy: 0.9569 - val_loss: 0.0954 - val_accuracy: 0.9688 - 117ms/epoch - 12ms/step\n",
            "Epoch 41/100\n",
            "10/10 - 0s - loss: 0.1292 - accuracy: 0.9565 - val_loss: 0.0912 - val_accuracy: 0.9680 - 109ms/epoch - 11ms/step\n",
            "Epoch 42/100\n",
            "10/10 - 0s - loss: 0.1273 - accuracy: 0.9571 - val_loss: 0.0882 - val_accuracy: 0.9729 - 104ms/epoch - 10ms/step\n",
            "Epoch 43/100\n",
            "10/10 - 0s - loss: 0.1227 - accuracy: 0.9604 - val_loss: 0.0847 - val_accuracy: 0.9713 - 170ms/epoch - 17ms/step\n",
            "Epoch 44/100\n",
            "10/10 - 0s - loss: 0.1189 - accuracy: 0.9590 - val_loss: 0.0819 - val_accuracy: 0.9713 - 157ms/epoch - 16ms/step\n",
            "Epoch 45/100\n",
            "10/10 - 0s - loss: 0.1123 - accuracy: 0.9655 - val_loss: 0.0782 - val_accuracy: 0.9737 - 102ms/epoch - 10ms/step\n",
            "Epoch 46/100\n",
            "10/10 - 0s - loss: 0.1108 - accuracy: 0.9637 - val_loss: 0.0773 - val_accuracy: 0.9762 - 99ms/epoch - 10ms/step\n",
            "Epoch 47/100\n",
            "10/10 - 0s - loss: 0.1124 - accuracy: 0.9661 - val_loss: 0.0738 - val_accuracy: 0.9779 - 108ms/epoch - 11ms/step\n",
            "Epoch 48/100\n",
            "10/10 - 0s - loss: 0.1094 - accuracy: 0.9616 - val_loss: 0.0722 - val_accuracy: 0.9779 - 100ms/epoch - 10ms/step\n",
            "Epoch 49/100\n",
            "10/10 - 0s - loss: 0.1018 - accuracy: 0.9684 - val_loss: 0.0679 - val_accuracy: 0.9795 - 118ms/epoch - 12ms/step\n",
            "Epoch 50/100\n",
            "10/10 - 0s - loss: 0.0951 - accuracy: 0.9713 - val_loss: 0.0647 - val_accuracy: 0.9803 - 105ms/epoch - 11ms/step\n",
            "Epoch 51/100\n",
            "10/10 - 0s - loss: 0.0977 - accuracy: 0.9735 - val_loss: 0.0624 - val_accuracy: 0.9828 - 119ms/epoch - 12ms/step\n",
            "Epoch 52/100\n",
            "10/10 - 0s - loss: 0.1001 - accuracy: 0.9707 - val_loss: 0.0615 - val_accuracy: 0.9836 - 89ms/epoch - 9ms/step\n",
            "Epoch 53/100\n",
            "10/10 - 0s - loss: 0.0933 - accuracy: 0.9725 - val_loss: 0.0585 - val_accuracy: 0.9828 - 108ms/epoch - 11ms/step\n",
            "Epoch 54/100\n",
            "10/10 - 0s - loss: 0.0883 - accuracy: 0.9748 - val_loss: 0.0563 - val_accuracy: 0.9836 - 171ms/epoch - 17ms/step\n",
            "Epoch 55/100\n",
            "10/10 - 0s - loss: 0.0845 - accuracy: 0.9739 - val_loss: 0.0534 - val_accuracy: 0.9844 - 104ms/epoch - 10ms/step\n",
            "Epoch 56/100\n",
            "10/10 - 0s - loss: 0.0812 - accuracy: 0.9780 - val_loss: 0.0506 - val_accuracy: 0.9852 - 107ms/epoch - 11ms/step\n",
            "Epoch 57/100\n",
            "10/10 - 0s - loss: 0.0784 - accuracy: 0.9760 - val_loss: 0.0501 - val_accuracy: 0.9836 - 98ms/epoch - 10ms/step\n",
            "Epoch 58/100\n",
            "10/10 - 0s - loss: 0.0769 - accuracy: 0.9785 - val_loss: 0.0464 - val_accuracy: 0.9852 - 90ms/epoch - 9ms/step\n",
            "Epoch 59/100\n",
            "10/10 - 0s - loss: 0.0711 - accuracy: 0.9801 - val_loss: 0.0449 - val_accuracy: 0.9852 - 92ms/epoch - 9ms/step\n",
            "Epoch 60/100\n",
            "10/10 - 0s - loss: 0.0732 - accuracy: 0.9815 - val_loss: 0.0432 - val_accuracy: 0.9852 - 146ms/epoch - 15ms/step\n",
            "Epoch 61/100\n",
            "10/10 - 0s - loss: 0.0670 - accuracy: 0.9826 - val_loss: 0.0409 - val_accuracy: 0.9869 - 100ms/epoch - 10ms/step\n",
            "Epoch 62/100\n",
            "10/10 - 0s - loss: 0.0648 - accuracy: 0.9828 - val_loss: 0.0399 - val_accuracy: 0.9861 - 147ms/epoch - 15ms/step\n",
            "Epoch 63/100\n",
            "10/10 - 0s - loss: 0.0658 - accuracy: 0.9807 - val_loss: 0.0387 - val_accuracy: 0.9877 - 104ms/epoch - 10ms/step\n",
            "Epoch 64/100\n",
            "10/10 - 0s - loss: 0.0634 - accuracy: 0.9836 - val_loss: 0.0368 - val_accuracy: 0.9861 - 159ms/epoch - 16ms/step\n",
            "Epoch 65/100\n",
            "10/10 - 0s - loss: 0.0621 - accuracy: 0.9840 - val_loss: 0.0352 - val_accuracy: 0.9869 - 109ms/epoch - 11ms/step\n",
            "Epoch 66/100\n",
            "10/10 - 0s - loss: 0.0616 - accuracy: 0.9826 - val_loss: 0.0347 - val_accuracy: 0.9902 - 101ms/epoch - 10ms/step\n",
            "Epoch 67/100\n",
            "10/10 - 0s - loss: 0.0568 - accuracy: 0.9856 - val_loss: 0.0334 - val_accuracy: 0.9885 - 165ms/epoch - 16ms/step\n",
            "Epoch 68/100\n",
            "10/10 - 0s - loss: 0.0581 - accuracy: 0.9856 - val_loss: 0.0317 - val_accuracy: 0.9885 - 156ms/epoch - 16ms/step\n",
            "Epoch 69/100\n",
            "10/10 - 0s - loss: 0.0539 - accuracy: 0.9858 - val_loss: 0.0308 - val_accuracy: 0.9893 - 125ms/epoch - 12ms/step\n",
            "Epoch 70/100\n",
            "10/10 - 0s - loss: 0.0572 - accuracy: 0.9826 - val_loss: 0.0289 - val_accuracy: 0.9885 - 145ms/epoch - 14ms/step\n",
            "Epoch 71/100\n",
            "10/10 - 0s - loss: 0.0545 - accuracy: 0.9828 - val_loss: 0.0280 - val_accuracy: 0.9902 - 124ms/epoch - 12ms/step\n",
            "Epoch 72/100\n",
            "10/10 - 0s - loss: 0.0506 - accuracy: 0.9865 - val_loss: 0.0273 - val_accuracy: 0.9918 - 172ms/epoch - 17ms/step\n",
            "Epoch 73/100\n",
            "10/10 - 0s - loss: 0.0483 - accuracy: 0.9875 - val_loss: 0.0258 - val_accuracy: 0.9893 - 191ms/epoch - 19ms/step\n",
            "Epoch 74/100\n",
            "10/10 - 0s - loss: 0.0467 - accuracy: 0.9873 - val_loss: 0.0263 - val_accuracy: 0.9902 - 157ms/epoch - 16ms/step\n",
            "Epoch 75/100\n",
            "10/10 - 0s - loss: 0.0441 - accuracy: 0.9879 - val_loss: 0.0246 - val_accuracy: 0.9902 - 241ms/epoch - 24ms/step\n",
            "Epoch 76/100\n",
            "10/10 - 0s - loss: 0.0460 - accuracy: 0.9885 - val_loss: 0.0236 - val_accuracy: 0.9910 - 145ms/epoch - 14ms/step\n",
            "Epoch 77/100\n",
            "10/10 - 0s - loss: 0.0436 - accuracy: 0.9889 - val_loss: 0.0230 - val_accuracy: 0.9918 - 161ms/epoch - 16ms/step\n",
            "Epoch 78/100\n",
            "10/10 - 0s - loss: 0.0417 - accuracy: 0.9891 - val_loss: 0.0225 - val_accuracy: 0.9926 - 184ms/epoch - 18ms/step\n",
            "Epoch 79/100\n",
            "10/10 - 0s - loss: 0.0409 - accuracy: 0.9889 - val_loss: 0.0214 - val_accuracy: 0.9918 - 201ms/epoch - 20ms/step\n",
            "Epoch 80/100\n",
            "10/10 - 0s - loss: 0.0407 - accuracy: 0.9877 - val_loss: 0.0208 - val_accuracy: 0.9926 - 137ms/epoch - 14ms/step\n",
            "Epoch 81/100\n",
            "10/10 - 0s - loss: 0.0398 - accuracy: 0.9897 - val_loss: 0.0193 - val_accuracy: 0.9943 - 95ms/epoch - 10ms/step\n",
            "Epoch 82/100\n",
            "10/10 - 0s - loss: 0.0373 - accuracy: 0.9899 - val_loss: 0.0185 - val_accuracy: 0.9951 - 125ms/epoch - 12ms/step\n",
            "Epoch 83/100\n",
            "10/10 - 0s - loss: 0.0393 - accuracy: 0.9895 - val_loss: 0.0183 - val_accuracy: 0.9943 - 173ms/epoch - 17ms/step\n",
            "Epoch 84/100\n",
            "10/10 - 0s - loss: 0.0370 - accuracy: 0.9902 - val_loss: 0.0178 - val_accuracy: 0.9951 - 106ms/epoch - 11ms/step\n",
            "Epoch 85/100\n",
            "10/10 - 0s - loss: 0.0373 - accuracy: 0.9881 - val_loss: 0.0172 - val_accuracy: 0.9951 - 115ms/epoch - 12ms/step\n",
            "Epoch 86/100\n",
            "10/10 - 0s - loss: 0.0344 - accuracy: 0.9895 - val_loss: 0.0160 - val_accuracy: 0.9959 - 113ms/epoch - 11ms/step\n",
            "Epoch 87/100\n",
            "10/10 - 0s - loss: 0.0321 - accuracy: 0.9912 - val_loss: 0.0154 - val_accuracy: 0.9959 - 287ms/epoch - 29ms/step\n",
            "Epoch 88/100\n",
            "10/10 - 0s - loss: 0.0342 - accuracy: 0.9914 - val_loss: 0.0153 - val_accuracy: 0.9975 - 177ms/epoch - 18ms/step\n",
            "Epoch 89/100\n",
            "10/10 - 0s - loss: 0.0343 - accuracy: 0.9920 - val_loss: 0.0151 - val_accuracy: 0.9975 - 149ms/epoch - 15ms/step\n",
            "Epoch 90/100\n",
            "10/10 - 0s - loss: 0.0313 - accuracy: 0.9922 - val_loss: 0.0157 - val_accuracy: 0.9951 - 121ms/epoch - 12ms/step\n",
            "Epoch 91/100\n",
            "10/10 - 0s - loss: 0.0306 - accuracy: 0.9924 - val_loss: 0.0140 - val_accuracy: 0.9975 - 131ms/epoch - 13ms/step\n",
            "Epoch 92/100\n",
            "10/10 - 0s - loss: 0.0315 - accuracy: 0.9914 - val_loss: 0.0137 - val_accuracy: 0.9975 - 133ms/epoch - 13ms/step\n",
            "Epoch 93/100\n",
            "10/10 - 0s - loss: 0.0291 - accuracy: 0.9930 - val_loss: 0.0128 - val_accuracy: 0.9975 - 187ms/epoch - 19ms/step\n",
            "Epoch 94/100\n",
            "10/10 - 0s - loss: 0.0293 - accuracy: 0.9924 - val_loss: 0.0127 - val_accuracy: 0.9975 - 236ms/epoch - 24ms/step\n",
            "Epoch 95/100\n",
            "10/10 - 0s - loss: 0.0286 - accuracy: 0.9930 - val_loss: 0.0128 - val_accuracy: 0.9984 - 152ms/epoch - 15ms/step\n",
            "Epoch 96/100\n",
            "10/10 - 0s - loss: 0.0277 - accuracy: 0.9924 - val_loss: 0.0127 - val_accuracy: 0.9984 - 229ms/epoch - 23ms/step\n",
            "Epoch 97/100\n",
            "10/10 - 0s - loss: 0.0281 - accuracy: 0.9934 - val_loss: 0.0115 - val_accuracy: 0.9984 - 273ms/epoch - 27ms/step\n",
            "Epoch 98/100\n",
            "10/10 - 0s - loss: 0.0300 - accuracy: 0.9920 - val_loss: 0.0111 - val_accuracy: 0.9975 - 227ms/epoch - 23ms/step\n",
            "Epoch 99/100\n",
            "10/10 - 0s - loss: 0.0294 - accuracy: 0.9928 - val_loss: 0.0110 - val_accuracy: 0.9984 - 233ms/epoch - 23ms/step\n",
            "Epoch 100/100\n",
            "10/10 - 0s - loss: 0.0259 - accuracy: 0.9941 - val_loss: 0.0100 - val_accuracy: 0.9984 - 200ms/epoch - 20ms/step\n"
          ]
        }
      ]
    },
    {
      "cell_type": "markdown",
      "source": [
        "# **Predictions and Evaluation**"
      ],
      "metadata": {
        "id": "koONrFrxTh1E"
      }
    },
    {
      "cell_type": "code",
      "source": [
        "y_prob = model.predict(x_test)\n",
        "print(y_prob[:5])"
      ],
      "metadata": {
        "colab": {
          "base_uri": "https://localhost:8080/"
        },
        "id": "-zssbEE9_i1c",
        "outputId": "9a0e34c1-6180-4229-cb3b-972d4a101a15"
      },
      "execution_count": null,
      "outputs": [
        {
          "output_type": "stream",
          "name": "stdout",
          "text": [
            "64/64 [==============================] - 0s 1ms/step\n",
            "[[9.9931616e-01 6.8384834e-04]\n",
            " [9.9999994e-01 1.6134855e-16]\n",
            " [2.3390590e-11 9.9999994e-01]\n",
            " [9.0848752e-16 9.9999994e-01]\n",
            " [7.6582021e-09 9.9999994e-01]]\n"
          ]
        }
      ]
    },
    {
      "cell_type": "code",
      "source": [
        "# Turn the y_prob into 1 dimensional array for accuracy score\n",
        "prediction = np.argmax(y_prob, axis=-1)\n",
        "print(prediction[:5])"
      ],
      "metadata": {
        "colab": {
          "base_uri": "https://localhost:8080/"
        },
        "id": "5hubYBTNABCI",
        "outputId": "25ad8d1c-3c7d-4e32-9b76-27220a6a0d6f"
      },
      "execution_count": null,
      "outputs": [
        {
          "output_type": "stream",
          "name": "stdout",
          "text": [
            "[0 0 1 1 1]\n"
          ]
        }
      ]
    },
    {
      "cell_type": "code",
      "source": [
        "# Accuracy score\n",
        "ac_score = accuracy_score(y_test, prediction)\n",
        "print(ac_score)"
      ],
      "metadata": {
        "colab": {
          "base_uri": "https://localhost:8080/"
        },
        "id": "YPSNQpdhAkYs",
        "outputId": "b38fcb13-5dcc-44ea-984b-21c596b38c11"
      },
      "execution_count": null,
      "outputs": [
        {
          "output_type": "stream",
          "name": "stdout",
          "text": [
            "0.9950763170851797\n"
          ]
        }
      ]
    },
    {
      "cell_type": "code",
      "source": [
        "# Confusion matrix\n",
        "con_matrix = confusion_matrix(y_test, prediction)\n",
        "print(con_matrix)"
      ],
      "metadata": {
        "colab": {
          "base_uri": "https://localhost:8080/"
        },
        "id": "LXxRIfyIAs8J",
        "outputId": "a6800a9e-1bf8-4058-c1af-81a0d8c11e40"
      },
      "execution_count": null,
      "outputs": [
        {
          "output_type": "stream",
          "name": "stdout",
          "text": [
            "[[1057    0]\n",
            " [  10  964]]\n"
          ]
        }
      ]
    },
    {
      "cell_type": "markdown",
      "source": [
        "# **Visualization**"
      ],
      "metadata": {
        "id": "by0ZsRlVTnMe"
      }
    },
    {
      "cell_type": "code",
      "source": [
        "label=['edible', 'poisonous']\n",
        "ax = sns.heatmap(con_matrix, annot=True, fmt='d', cmap='Blues', xticklabels=label, yticklabels=label)\n",
        "ax.set_title('Confusion matrix for mushroom dataset')\n",
        "ax.set_xlabel('prediction', fontsize=14)\n",
        "ax.set_ylabel('actual', fontsize=14)"
      ],
      "metadata": {
        "colab": {
          "base_uri": "https://localhost:8080/",
          "height": 494
        },
        "id": "Fvm6G3d9A3kV",
        "outputId": "69cd5011-c04b-4046-9dc0-985a5c93337b"
      },
      "execution_count": null,
      "outputs": [
        {
          "output_type": "execute_result",
          "data": {
            "text/plain": [
              "Text(50.722222222222214, 0.5, 'actual')"
            ]
          },
          "metadata": {},
          "execution_count": 159
        },
        {
          "output_type": "display_data",
          "data": {
            "text/plain": [
              "<Figure size 640x480 with 2 Axes>"
            ],
            "image/png": "[encoded data removed]"
          },
          "metadata": {}
        }
      ]
    },
    {
      "cell_type": "code",
      "source": [
        "plt.figure(figsize=(8, 6))\n",
        "plt.plot(history.history['accuracy'], label='Training Accuracy')\n",
        "plt.plot(history.history['val_accuracy'], label='Validation Accuracy')\n",
        "plt.xlabel('Epoch')\n",
        "plt.ylabel('Accuracy')\n",
        "plt.ylim([0.5, 1])\n",
        "plt.legend(loc='lower right')\n",
        "plt.show()"
      ],
      "metadata": {
        "colab": {
          "base_uri": "https://localhost:8080/",
          "height": 547
        },
        "id": "tetaQKA6Y7kP",
        "outputId": "01476e42-91cc-4332-da09-f3a5a6b8d9de"
      },
      "execution_count": null,
      "outputs": [
        {
          "output_type": "display_data",
          "data": {
            "text/plain": [
              "<Figure size 800x600 with 1 Axes>"
            ],
            "image/png": "[encoded data removed]"
          },
          "metadata": {}
        }
      ]
    },
    {
      "cell_type": "code",
      "source": [
        "y_prob_positive = y_prob[:, 1]"
      ],
      "metadata": {
        "id": "rEuCVKC-GEkC"
      },
      "execution_count": null,
      "outputs": []
    },
    {
      "cell_type": "code",
      "source": [
        "fpr, tpr, thresholds = roc_curve(y_test, y_prob_positive)\n"
      ],
      "metadata": {
        "id": "KUImGM5s6IQr"
      },
      "execution_count": null,
      "outputs": []
    },
    {
      "cell_type": "code",
      "source": [
        "plt.figure(figsize=(8, 6))\n",
        "plt.plot([0, 1], [0, 1], 'k--')  # Add the diagonal line\n",
        "plt.plot(fpr, tpr, label='ROC curve')\n",
        "plt.xlabel('False Positive Rate')\n",
        "plt.ylabel('True Positive Rate')\n",
        "plt.title('Receiver Operating Characteristic (ROC) Curve')\n",
        "plt.legend()\n",
        "plt.show()"
      ],
      "metadata": {
        "colab": {
          "base_uri": "https://localhost:8080/",
          "height": 564
        },
        "id": "-hlYuLPo_GeL",
        "outputId": "b1c53251-0bfb-498b-c940-237b094cdfdf"
      },
      "execution_count": null,
      "outputs": [
        {
          "output_type": "display_data",
          "data": {
            "text/plain": [
              "<Figure size 800x600 with 1 Axes>"
            ],
            "image/png": "[encoded data removed]"
          },
          "metadata": {}
        }
      ]
    }
  ]
}